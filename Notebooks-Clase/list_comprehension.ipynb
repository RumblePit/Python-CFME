{
 "cells": [
  {
   "cell_type": "markdown",
   "id": "943e7509-76f7-4d73-a749-7d13483b03a1",
   "metadata": {},
   "source": [
    "# List Comprehension"
   ]
  },
  {
   "cell_type": "markdown",
   "id": "8a38a9c2-3c00-4d79-9057-d31e52d6020e",
   "metadata": {},
   "source": [
    "lista_com = [elemento for elemento in lista]"
   ]
  },
  {
   "cell_type": "markdown",
   "id": "a4182617-c797-45d8-871c-d872101d874b",
   "metadata": {},
   "source": [
    "## Lista de forma normal"
   ]
  },
  {
   "cell_type": "code",
   "execution_count": 1,
   "id": "039a2d85-a822-4214-9c53-137a2b55711b",
   "metadata": {},
   "outputs": [
    {
     "name": "stdout",
     "output_type": "stream",
     "text": [
      "[2, 4, 6, 8, 10, 12, 14, 16, 18, 20]\n"
     ]
    }
   ],
   "source": [
    "numbers = []\n",
    "for element in range(1,11):\n",
    "    numbers.append(element*2)\n",
    "\n",
    "print(numbers)"
   ]
  },
  {
   "cell_type": "markdown",
   "id": "1d8d28d8-98f3-41fd-ba57-cf48b1fd990f",
   "metadata": {},
   "source": [
    "## Lista comprenhension"
   ]
  },
  {
   "cell_type": "code",
   "execution_count": 2,
   "id": "4ac66d59-aaed-4986-ab0b-015b72f7544f",
   "metadata": {},
   "outputs": [
    {
     "name": "stdout",
     "output_type": "stream",
     "text": [
      "[2, 4, 6, 8, 10, 12, 14, 16, 18, 20]\n"
     ]
    }
   ],
   "source": [
    "numbers_v2 = [element * 2 for element in range(1,11)]\n",
    "print(numbers_v2)"
   ]
  },
  {
   "cell_type": "markdown",
   "id": "6a395ddd-8967-41db-8dec-dddd24dc5810",
   "metadata": {},
   "source": [
    "# Condicional if en for normal"
   ]
  },
  {
   "cell_type": "code",
   "execution_count": 11,
   "id": "a2833b2f-36f0-48cb-8c5f-42c1e62e3521",
   "metadata": {},
   "outputs": [
    {
     "name": "stdout",
     "output_type": "stream",
     "text": [
      "[4, 8, 12, 16, 20]\n"
     ]
    }
   ],
   "source": [
    "numbers_v3 =[]\n",
    "for i in range(1,11):\n",
    "    if i % 2 == 0:\n",
    "        numbers_v3.append(i*2)\n",
    "print(numbers_v3)"
   ]
  },
  {
   "cell_type": "markdown",
   "id": "1d776b19-c9bb-440c-a7f4-a318ece4b74b",
   "metadata": {},
   "source": [
    "# Condicional if en list comprenhension"
   ]
  },
  {
   "cell_type": "code",
   "execution_count": 8,
   "id": "e91a85e6-f433-4c05-ad1c-8b83b3740009",
   "metadata": {},
   "outputs": [
    {
     "name": "stdout",
     "output_type": "stream",
     "text": [
      "[4, 8, 12, 16, 20]\n"
     ]
    }
   ],
   "source": [
    "numbers_v4 = [element * 2 for element in range(1,11) if element % 2 == 0]\n",
    "print(numbers_v4)"
   ]
  }
 ],
 "metadata": {
  "kernelspec": {
   "display_name": "Python 3 (ipykernel)",
   "language": "python",
   "name": "python3"
  },
  "language_info": {
   "codemirror_mode": {
    "name": "ipython",
    "version": 3
   },
   "file_extension": ".py",
   "mimetype": "text/x-python",
   "name": "python",
   "nbconvert_exporter": "python",
   "pygments_lexer": "ipython3",
   "version": "3.11.3"
  }
 },
 "nbformat": 4,
 "nbformat_minor": 5
}
