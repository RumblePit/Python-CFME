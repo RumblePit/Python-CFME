{
 "cells": [
  {
   "cell_type": "markdown",
   "id": "2a890c24-fe49-4f34-92af-3dfb367f4c91",
   "metadata": {},
   "source": [
    "# Dict Comp."
   ]
  },
  {
   "cell_type": "code",
   "execution_count": 4,
   "id": "3903e474-fef9-446b-a1e3-3144c6781109",
   "metadata": {},
   "outputs": [
    {
     "name": "stdout",
     "output_type": "stream",
     "text": [
      "{1: 2, 2: 4, 3: 6, 4: 8}\n"
     ]
    }
   ],
   "source": [
    "dict = {}\n",
    "for i in range(1, 5):\n",
    "    dict[i] = i * 2\n",
    "print(dict)"
   ]
  },
  {
   "cell_type": "code",
   "execution_count": 6,
   "id": "cf4afa89-91b6-4833-b8f6-dd08da6e6f2e",
   "metadata": {},
   "outputs": [
    {
     "name": "stdout",
     "output_type": "stream",
     "text": [
      "{1: 2, 2: 4, 3: 6, 4: 8}\n"
     ]
    }
   ],
   "source": [
    "dict_v2 = {i : i*2 for i in range(1, 5)}\n",
    "print(dict_v2)"
   ]
  },
  {
   "cell_type": "code",
   "execution_count": 7,
   "id": "f8c7ee54-2eb3-4b7d-bd8b-a486c4588dd1",
   "metadata": {},
   "outputs": [
    {
     "name": "stdout",
     "output_type": "stream",
     "text": [
      "{'col': 31, 'mex': 32, 'bol': 35, 'pe': 2}\n"
     ]
    }
   ],
   "source": [
    "import random\n",
    "countries = [\"col\", \"mex\", \"bol\", \"pe\"]\n",
    "population ={}\n",
    "for country in countries:\n",
    "    population[country] = random.randint(1,100)\n",
    "\n",
    "print(population)"
   ]
  },
  {
   "cell_type": "code",
   "execution_count": 8,
   "id": "c69d7fc8-e9ab-48c7-959d-209d20ced205",
   "metadata": {},
   "outputs": [
    {
     "name": "stdout",
     "output_type": "stream",
     "text": [
      "{'col': 7, 'mex': 84, 'bol': 68, 'pe': 77}\n"
     ]
    }
   ],
   "source": [
    "population_v2 = {country: random.randint(1,100) for country in countries}\n",
    "print(population_v2)"
   ]
  },
  {
   "cell_type": "code",
   "execution_count": 9,
   "id": "dd80f4ab-1c65-4a0b-9d2f-dd37e87974a7",
   "metadata": {},
   "outputs": [
    {
     "name": "stdout",
     "output_type": "stream",
     "text": [
      "[('nico', 12), ('zule', 56), ('santi', 98)]\n"
     ]
    }
   ],
   "source": [
    "names = [\"nico\", \"zule\", \"santi\"]\n",
    "ages = [12, 56,98]\n",
    "\n",
    "print(list(zip(names, ages)))"
   ]
  },
  {
   "cell_type": "code",
   "execution_count": 12,
   "id": "fda23efa-abbc-408a-a376-b91b4b465a6a",
   "metadata": {},
   "outputs": [
    {
     "name": "stdout",
     "output_type": "stream",
     "text": [
      "{'nico': 12, 'zule': 56, 'santi': 98}\n"
     ]
    }
   ],
   "source": [
    "new_dict = {name : age for (name, age) in zip(names, ages)}\n",
    "print(new_dict)"
   ]
  },
  {
   "cell_type": "code",
   "execution_count": 19,
   "id": "d8fb2f86-2617-4cf6-a737-7d33ec502a9d",
   "metadata": {},
   "outputs": [
    {
     "name": "stdout",
     "output_type": "stream",
     "text": [
      "{'mex': 84, 'bol': 68, 'pe': 77}\n"
     ]
    }
   ],
   "source": [
    "result = { country : population for (country,population) in population_v2.items() if population > 20}\n",
    "print(result)"
   ]
  },
  {
   "cell_type": "code",
   "execution_count": 20,
   "id": "ee03af3f-f931-41dc-8056-020a250b4729",
   "metadata": {},
   "outputs": [
    {
     "name": "stdout",
     "output_type": "stream",
     "text": [
      "{'o': 'O', 'a': 'A', 'e': 'E'}\n"
     ]
    }
   ],
   "source": [
    "text = \"Hola, soy Pedro\"\n",
    "unique = { c : c.upper() for c in text if c in 'aeiou' }\n",
    "print(unique)"
   ]
  }
 ],
 "metadata": {
  "kernelspec": {
   "display_name": "Python 3 (ipykernel)",
   "language": "python",
   "name": "python3"
  },
  "language_info": {
   "codemirror_mode": {
    "name": "ipython",
    "version": 3
   },
   "file_extension": ".py",
   "mimetype": "text/x-python",
   "name": "python",
   "nbconvert_exporter": "python",
   "pygments_lexer": "ipython3",
   "version": "3.11.3"
  }
 },
 "nbformat": 4,
 "nbformat_minor": 5
}
