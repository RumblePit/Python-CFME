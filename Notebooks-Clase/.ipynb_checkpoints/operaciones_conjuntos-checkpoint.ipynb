{
 "cells": [
  {
   "cell_type": "markdown",
   "id": "1a082dd7-eddf-4795-9b3f-9407d00fbd09",
   "metadata": {},
   "source": [
    "# Operaciones de conjuntos"
   ]
  },
  {
   "cell_type": "markdown",
   "id": "624a6fae-f3eb-434c-aa3a-26a08a6fb52e",
   "metadata": {},
   "source": [
    "## Unión\n",
    "Se puede hacer unión de las siguientes dos formas:"
   ]
  },
  {
   "cell_type": "code",
   "execution_count": 1,
   "id": "23360cfd-4616-490c-b98b-a0fef9c33d7e",
   "metadata": {},
   "outputs": [
    {
     "name": "stdout",
     "output_type": "stream",
     "text": [
      "{'bol', 'pe', 'mex', 'col'}\n",
      "{'bol', 'pe', 'mex', 'col'}\n"
     ]
    }
   ],
   "source": [
    "set_a = {'col', 'mex', 'bol'}\n",
    "set_b = {'pe', 'bol'}\n",
    "\n",
    "set_c = set_a.union(set_b)\n",
    "print(set_c)\n",
    "# Otra forma de escribir unión es con |\n",
    "print(set_a | set_b)"
   ]
  },
  {
   "cell_type": "markdown",
   "id": "b434d07e-e025-46b1-ad43-0ed43aa3ca37",
   "metadata": {},
   "source": [
    "## Intersección\n",
    "Se puede hacer de las siguientes formas:"
   ]
  },
  {
   "cell_type": "code",
   "execution_count": 2,
   "id": "dd8269af-8ca3-47be-858c-b6f23eb20da3",
   "metadata": {},
   "outputs": [
    {
     "name": "stdout",
     "output_type": "stream",
     "text": [
      "{'bol'}\n",
      "{'bol'}\n"
     ]
    }
   ],
   "source": [
    "set_c = set_a.intersection(set_b)\n",
    "print(set_c)\n",
    "# Se puede hacer la misma operación con &\n",
    "print(set_a & set_b)"
   ]
  },
  {
   "cell_type": "markdown",
   "id": "638d4d9b-c383-4a05-b749-e524f6a98b79",
   "metadata": {},
   "source": [
    "## Diferencia\n",
    "Se puede hacer de las siguientes formas:"
   ]
  },
  {
   "cell_type": "code",
   "execution_count": 3,
   "id": "2f214219-fd30-4961-817f-464feae4efe4",
   "metadata": {},
   "outputs": [
    {
     "name": "stdout",
     "output_type": "stream",
     "text": [
      "{'mex', 'col'}\n",
      "{'mex', 'col'}\n"
     ]
    }
   ],
   "source": [
    "set_c = set_a.difference(set_b)\n",
    "print(set_c)\n",
    "# Aquí el signo es el -\n",
    "print(set_a - set_b)"
   ]
  },
  {
   "cell_type": "markdown",
   "id": "8e28edab-7963-4194-a035-a721567da754",
   "metadata": {},
   "source": [
    "## Diferencia simétrica\n",
    "Se quita los repetidos por ambos, se puede de las siguientes maneras:"
   ]
  },
  {
   "cell_type": "code",
   "execution_count": 4,
   "id": "c85274cc-8270-4c64-998a-52af07d427d6",
   "metadata": {},
   "outputs": [
    {
     "name": "stdout",
     "output_type": "stream",
     "text": [
      "{'pe', 'mex', 'col'}\n",
      "{'pe', 'mex', 'col'}\n"
     ]
    }
   ],
   "source": [
    "set_c = set_a.symmetric_difference(set_b)\n",
    "print(set_c)\n",
    "#El signo de esta operación es ^\n",
    "print(set_a ^ set_b)"
   ]
  }
 ],
 "metadata": {
  "kernelspec": {
   "display_name": "Python 3 (ipykernel)",
   "language": "python",
   "name": "python3"
  },
  "language_info": {
   "codemirror_mode": {
    "name": "ipython",
    "version": 3
   },
   "file_extension": ".py",
   "mimetype": "text/x-python",
   "name": "python",
   "nbconvert_exporter": "python",
   "pygments_lexer": "ipython3",
   "version": "3.11.3"
  }
 },
 "nbformat": 4,
 "nbformat_minor": 5
}
