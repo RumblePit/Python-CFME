{
 "cells": [
  {
   "cell_type": "markdown",
   "id": "943e7509-76f7-4d73-a749-7d13483b03a1",
   "metadata": {},
   "source": [
    "# List Comprehension"
   ]
  },
  {
   "cell_type": "markdown",
   "id": "8a38a9c2-3c00-4d79-9057-d31e52d6020e",
   "metadata": {},
   "source": [
    "lista_com = [elemento for elemento in lista]"
   ]
  },
  {
   "cell_type": "markdown",
   "id": "a4182617-c797-45d8-871c-d872101d874b",
   "metadata": {},
   "source": [
    "## Lista de forma normal"
   ]
  },
  {
   "cell_type": "code",
   "execution_count": 4,
   "id": "039a2d85-a822-4214-9c53-137a2b55711b",
   "metadata": {},
   "outputs": [
    {
     "name": "stdout",
     "output_type": "stream",
     "text": [
      "[2, 4, 6, 8, 10, 12, 14, 16, 18, 20]\n"
     ]
    }
   ],
   "source": [
    "numbers = []\n",
    "for element in range(1,11):\n",
    "    numbers.append(element*2)\n",
    "\n",
    "print(numbers)"
   ]
  },
  {
   "cell_type": "markdown",
   "id": "1d8d28d8-98f3-41fd-ba57-cf48b1fd990f",
   "metadata": {},
   "source": [
    "## Lista comprenhension"
   ]
  },
  {
   "cell_type": "code",
   "execution_count": 5,
   "id": "4ac66d59-aaed-4986-ab0b-015b72f7544f",
   "metadata": {},
   "outputs": [
    {
     "name": "stdout",
     "output_type": "stream",
     "text": [
      "[2, 4, 6, 8, 10, 12, 14, 16, 18, 20]\n"
     ]
    }
   ],
   "source": [
    "numbers_v2 = [element * 2 for element in range(1,11)]\n",
    "print(numbers_v2)"
   ]
  },
  {
   "cell_type": "code",
   "execution_count": 9,
   "id": "a2833b2f-36f0-48cb-8c5f-42c1e62e3521",
   "metadata": {},
   "outputs": [
    {
     "name": "stdout",
     "output_type": "stream",
     "text": [
      "[2, 4, 6, 8, 10, 12, 14, 16, 18, 20, 2, 2, 2, 2, 2, 2, 2, 2, 2, 2, 4, 8, 12, 16, 20, 4, 8, 12, 16, 20]\n"
     ]
    }
   ],
   "source": [
    "for i in range(1,11):\n",
    "    if i % 2 == 0:\n",
    "        numbers.append(i*2)\n",
    "print(numbers)"
   ]
  },
  {
   "cell_type": "code",
   "execution_count": null,
   "id": "e91a85e6-f433-4c05-ad1c-8b83b3740009",
   "metadata": {},
   "outputs": [],
   "source": []
  },
  {
   "cell_type": "code",
   "execution_count": null,
   "id": "280c1512-a4fb-4d6b-a86f-ff365456ed5c",
   "metadata": {},
   "outputs": [],
   "source": []
  }
 ],
 "metadata": {
  "kernelspec": {
   "display_name": "Python 3 (ipykernel)",
   "language": "python",
   "name": "python3"
  },
  "language_info": {
   "codemirror_mode": {
    "name": "ipython",
    "version": 3
   },
   "file_extension": ".py",
   "mimetype": "text/x-python",
   "name": "python",
   "nbconvert_exporter": "python",
   "pygments_lexer": "ipython3",
   "version": "3.11.3"
  }
 },
 "nbformat": 4,
 "nbformat_minor": 5
}
