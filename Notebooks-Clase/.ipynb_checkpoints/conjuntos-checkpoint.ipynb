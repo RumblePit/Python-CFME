{
 "cells": [
  {
   "cell_type": "markdown",
   "id": "70462a70-3923-40a8-b418-31291f20019e",
   "metadata": {},
   "source": [
    "# Conjuntos"
   ]
  },
  {
   "cell_type": "markdown",
   "id": "0e250727-ac01-4a26-9007-1bd0189434f9",
   "metadata": {},
   "source": [
    "## Características\n",
    "- Se pueden modificar.\n",
    "- No tienen orden.\n",
    "- No permiten duplicados."
   ]
  },
  {
   "cell_type": "code",
   "execution_count": 2,
   "id": "0c497d8c-49b7-42b6-aaa5-9613783074b7",
   "metadata": {},
   "outputs": [
    {
     "name": "stdout",
     "output_type": "stream",
     "text": [
      "{'Col', 'Bol', 'Mex'}\n",
      "<class 'set'>\n"
     ]
    }
   ],
   "source": [
    "set_countries = {'Col', 'Mex', 'Bol', 'Col'}\n",
    "print(set_countries)\n",
    "print(type(set_countries))"
   ]
  },
  {
   "cell_type": "markdown",
   "id": "6efb4561-0f2b-46ca-8ef6-89acc149fa24",
   "metadata": {},
   "source": [
    "### Conjunto de números"
   ]
  },
  {
   "cell_type": "code",
   "execution_count": 3,
   "id": "f7f03d7d-a08e-4763-89b9-1016628d03db",
   "metadata": {},
   "outputs": [
    {
     "name": "stdout",
     "output_type": "stream",
     "text": [
      "{1, 2, 443, 23}\n"
     ]
    }
   ],
   "source": [
    "set_numbers = {1, 2, 2, 443, 23}\n",
    "print(set_numbers)"
   ]
  },
  {
   "cell_type": "markdown",
   "id": "0c9ecb28-c9b9-4765-9e2a-826fbb512799",
   "metadata": {},
   "source": [
    "### Conjunto de varios tipos de datos"
   ]
  },
  {
   "cell_type": "code",
   "execution_count": 4,
   "id": "8887ad1c-c759-4b5b-ae64-9c60c772b56c",
   "metadata": {},
   "outputs": [
    {
     "name": "stdout",
     "output_type": "stream",
     "text": [
      "{False, 1, 'Hola', 12.12}\n"
     ]
    }
   ],
   "source": [
    "set_types = {1, 'Hola', False, 12.12}\n",
    "print(set_types)"
   ]
  },
  {
   "cell_type": "markdown",
   "id": "1304a771-6636-4736-b847-7b32fd0bc5bd",
   "metadata": {},
   "source": [
    "### Conjunto a partir de un String"
   ]
  },
  {
   "cell_type": "code",
   "execution_count": 5,
   "id": "5abde142-7865-4442-96a5-64b0a1151176",
   "metadata": {},
   "outputs": [
    {
     "name": "stdout",
     "output_type": "stream",
     "text": [
      "{'a', 'H', 'o', 'l'}\n"
     ]
    }
   ],
   "source": [
    "set_from_string = set('Hola')\n",
    "print(set_from_string)"
   ]
  },
  {
   "cell_type": "markdown",
   "id": "610a573a-8f7c-49ff-a597-89f452568d37",
   "metadata": {},
   "source": [
    "### Conjunto a partir de una Tupla"
   ]
  },
  {
   "cell_type": "code",
   "execution_count": 6,
   "id": "308432d3-7de4-4f7f-9c68-85361134de0c",
   "metadata": {},
   "outputs": [
    {
     "name": "stdout",
     "output_type": "stream",
     "text": [
      "{'as', 'cdv', 'abc'}\n"
     ]
    }
   ],
   "source": [
    "set_from_tuple = set(('abc','cdv','as', 'abc'))\n",
    "print(set_from_tuple)"
   ]
  },
  {
   "cell_type": "markdown",
   "id": "c21b2834-aaee-48b6-a031-b967b5f4e05a",
   "metadata": {},
   "source": [
    "### Conjunto a partir de una lista\n",
    "Nos puede ayudar cuando se recorre una lista y solo se quiere los números sin sus repeticiones"
   ]
  },
  {
   "cell_type": "code",
   "execution_count": 8,
   "id": "4a42e92c-fc18-422b-930c-1674de8ef7c2",
   "metadata": {},
   "outputs": [
    {
     "name": "stdout",
     "output_type": "stream",
     "text": [
      "{1, 2, 3, 4, 5}\n"
     ]
    }
   ],
   "source": [
    "numbers = [1,2,3,4,5,1,2,3,4]\n",
    "set_numbers = set(numbers)\n",
    "print(set_numbers)"
   ]
  },
  {
   "cell_type": "markdown",
   "id": "b6add10e-cb94-46b1-a5c1-3177752a378d",
   "metadata": {},
   "source": [
    "### De un conjunto a una lista\n",
    "Ya sin los números repetidos, se devuelve a una lista."
   ]
  },
  {
   "cell_type": "code",
   "execution_count": 9,
   "id": "78c44b00-2813-4f86-aefc-dc710c9090ce",
   "metadata": {},
   "outputs": [
    {
     "name": "stdout",
     "output_type": "stream",
     "text": [
      "[1, 2, 3, 4, 5]\n"
     ]
    }
   ],
   "source": [
    "unique_numbers = list(set_numbers)\n",
    "print(unique_numbers)"
   ]
  }
 ],
 "metadata": {
  "kernelspec": {
   "display_name": "Python 3 (ipykernel)",
   "language": "python",
   "name": "python3"
  },
  "language_info": {
   "codemirror_mode": {
    "name": "ipython",
    "version": 3
   },
   "file_extension": ".py",
   "mimetype": "text/x-python",
   "name": "python",
   "nbconvert_exporter": "python",
   "pygments_lexer": "ipython3",
   "version": "3.11.3"
  }
 },
 "nbformat": 4,
 "nbformat_minor": 5
}
