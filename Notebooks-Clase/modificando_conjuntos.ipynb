{
 "cells": [
  {
   "cell_type": "markdown",
   "id": "54cc7237-c055-47f1-80f7-bf4b90fbd899",
   "metadata": {},
   "source": [
    "# Modificando Conjuntos"
   ]
  },
  {
   "cell_type": "markdown",
   "id": "7d9fc9f5-772f-413d-9188-ee5c78472e9e",
   "metadata": {},
   "source": [
    "## Tamaño de conjunto\n",
    "Con len() se puede saber el tamaño del conjunto, lista, tupla, etc."
   ]
  },
  {
   "cell_type": "code",
   "execution_count": 1,
   "id": "cb6169c3-e214-42d2-af55-21f6a161ab8a",
   "metadata": {},
   "outputs": [
    {
     "name": "stdout",
     "output_type": "stream",
     "text": [
      "3\n"
     ]
    }
   ],
   "source": [
    "set_countries = {'Col', 'Mex', 'Bol', 'Col'}\n",
    "\n",
    "size = len(set_countries)\n",
    "print(size)"
   ]
  },
  {
   "cell_type": "markdown",
   "id": "3bb6e1da-92e1-47fe-b763-8951745b1704",
   "metadata": {},
   "source": [
    "## Saber si esta en el Conjunto"
   ]
  },
  {
   "cell_type": "code",
   "execution_count": 2,
   "id": "cb75afd5-6233-47f5-a1b0-53bfd8639ee2",
   "metadata": {},
   "outputs": [
    {
     "name": "stdout",
     "output_type": "stream",
     "text": [
      "True\n",
      "False\n"
     ]
    }
   ],
   "source": [
    "print('Col' in set_countries)\n",
    "print('Pe' in set_countries)"
   ]
  },
  {
   "cell_type": "markdown",
   "id": "3df1f7cb-5272-4c57-808f-0e8d0b418486",
   "metadata": {},
   "source": [
    "## Add"
   ]
  },
  {
   "cell_type": "code",
   "execution_count": 3,
   "id": "c16d33c8-8549-4f8f-93bb-c179411b77a5",
   "metadata": {},
   "outputs": [
    {
     "name": "stdout",
     "output_type": "stream",
     "text": [
      "{'Col', 'Pe', 'Mex', 'Bol'}\n"
     ]
    }
   ],
   "source": [
    "set_countries.add('Pe')\n",
    "print(set_countries)"
   ]
  },
  {
   "cell_type": "code",
   "execution_count": 4,
   "id": "bb3d798f-760f-4612-a5cb-8c106c91f3a0",
   "metadata": {},
   "outputs": [
    {
     "name": "stdout",
     "output_type": "stream",
     "text": [
      "{'Col', 'Pe', 'Mex', 'Bol'}\n"
     ]
    }
   ],
   "source": [
    "set_countries.add('Pe')\n",
    "print(set_countries)"
   ]
  },
  {
   "cell_type": "markdown",
   "id": "3a86d560-eb4c-4b3a-82c6-691ef41f3f0c",
   "metadata": {},
   "source": [
    "## Update"
   ]
  },
  {
   "cell_type": "code",
   "execution_count": 5,
   "id": "bfb81351-65df-4caa-a2bf-4656d0d092dd",
   "metadata": {},
   "outputs": [
    {
     "name": "stdout",
     "output_type": "stream",
     "text": [
      "{'Mex', 'Col', 'Ec', 'Ar', 'Pe', 'Bol'}\n"
     ]
    }
   ],
   "source": [
    "set_countries.update({'Ar', 'Ec', 'Pe'})\n",
    "print(set_countries)"
   ]
  },
  {
   "cell_type": "markdown",
   "id": "7c6c8f0f-ea0d-409d-8750-19447f7bbbae",
   "metadata": {},
   "source": [
    "## Remove"
   ]
  },
  {
   "cell_type": "code",
   "execution_count": 6,
   "id": "8ba3be47-07d1-4c52-a2c6-fe5c48377dea",
   "metadata": {},
   "outputs": [
    {
     "name": "stdout",
     "output_type": "stream",
     "text": [
      "{'Mex', 'Ec', 'Ar', 'Pe', 'Bol'}\n"
     ]
    }
   ],
   "source": [
    "set_countries.remove('Col')\n",
    "print(set_countries)"
   ]
  },
  {
   "cell_type": "markdown",
   "id": "10479437-3273-465d-a34b-511bd2bcd053",
   "metadata": {},
   "source": [
    "## Discard\n",
    "Nos sirve cuando no sabemos si un elemento que queremos borrar esta dentro y no romper el programa."
   ]
  },
  {
   "cell_type": "code",
   "execution_count": 7,
   "id": "0d9258e4-523d-477f-abb5-b7bade4de3c1",
   "metadata": {},
   "outputs": [
    {
     "name": "stdout",
     "output_type": "stream",
     "text": [
      "{'Mex', 'Ec', 'Ar', 'Pe', 'Bol'}\n"
     ]
    }
   ],
   "source": [
    "#set_countries.remove('Arg')\n",
    "set_countries.discard('Arg')\n",
    "print(set_countries)"
   ]
  },
  {
   "cell_type": "markdown",
   "id": "02cfb63c-709d-4357-851b-8a667ef53a0f",
   "metadata": {},
   "source": [
    "## Clear\n",
    "Borra los elemntos de un conjunto"
   ]
  },
  {
   "cell_type": "code",
   "execution_count": 8,
   "id": "868694b8-e999-4e21-b2ee-ba5009b0b67d",
   "metadata": {},
   "outputs": [
    {
     "name": "stdout",
     "output_type": "stream",
     "text": [
      "0\n"
     ]
    }
   ],
   "source": [
    "set_countries.clear()\n",
    "print(len(set_countries))"
   ]
  }
 ],
 "metadata": {
  "kernelspec": {
   "display_name": "Python 3 (ipykernel)",
   "language": "python",
   "name": "python3"
  },
  "language_info": {
   "codemirror_mode": {
    "name": "ipython",
    "version": 3
   },
   "file_extension": ".py",
   "mimetype": "text/x-python",
   "name": "python",
   "nbconvert_exporter": "python",
   "pygments_lexer": "ipython3",
   "version": "3.11.3"
  }
 },
 "nbformat": 4,
 "nbformat_minor": 5
}
