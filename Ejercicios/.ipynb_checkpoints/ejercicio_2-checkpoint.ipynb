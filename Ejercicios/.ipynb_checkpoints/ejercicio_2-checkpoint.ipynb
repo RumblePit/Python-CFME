{
 "cells": [
  {
   "cell_type": "markdown",
   "id": "5d26b893-9688-49b4-9cb9-6317c35c4c86",
   "metadata": {},
   "source": [
    "# Ejercicio 2"
   ]
  },
  {
   "cell_type": "markdown",
   "id": "4a78702b-aa6b-4648-89d5-196dd960daa2",
   "metadata": {},
   "source": [
    "Para resolver este desafío, tu reto es refactorizar el código base utilizando la característica de \"List Comprehension\" de Python.\n",
    "\n",
    "El código base incluye una lista llamada numbers que contiene números pares e impares. El algoritmo actual selecciona los números pares de esta lista y los agrega a una nueva lista llamada even_numbers.\n",
    "\n",
    "Tu reto es crear la misma lista utilizando la característica de \"List Comprehension\" de Python para crear la lista de números pares de manera más concisa y eficiente y el resultado debería quedar en la variable even_numbers_v2. Las dos técnicas deberían de dar el mismo resultado.\n",
    "\n",
    "Ejemplo:\n",
    "\n",
    "Input:\n",
    "[35, 16, 10, 34, 37, 25]\n",
    "\n",
    "Output:\n",
    "v1 => [16, 10, 34]\n",
    "v2 => [16, 10, 34]"
   ]
  },
  {
   "cell_type": "code",
   "execution_count": 1,
   "id": "aab1c0b5-93c5-402c-b48b-c17b634b7b00",
   "metadata": {},
   "outputs": [
    {
     "name": "stdout",
     "output_type": "stream",
     "text": [
      "v1 => [16, 10, 34]\n",
      "v2 => [16, 10, 34]\n"
     ]
    }
   ],
   "source": [
    "numbers = [35, 16, 10, 34, 37, 25]\n",
    "\n",
    "even_numbers = []\n",
    "for number in numbers:\n",
    "  if number % 2 == 0:\n",
    "    even_numbers.append(number)\n",
    "print('v1 =>', even_numbers)\n",
    "\n",
    "# Ahora usando List Comprehension 👇\n",
    "even_numbers_v2 = [ number for number in numbers if number % 2 == 0 ]\n",
    "\n",
    "print('v2 =>', even_numbers_v2)"
   ]
  },
  {
   "cell_type": "code",
   "execution_count": null,
   "id": "6b6561cf-e581-4af4-b789-1548866312be",
   "metadata": {},
   "outputs": [],
   "source": []
  }
 ],
 "metadata": {
  "kernelspec": {
   "display_name": "Python 3 (ipykernel)",
   "language": "python",
   "name": "python3"
  },
  "language_info": {
   "codemirror_mode": {
    "name": "ipython",
    "version": 3
   },
   "file_extension": ".py",
   "mimetype": "text/x-python",
   "name": "python",
   "nbconvert_exporter": "python",
   "pygments_lexer": "ipython3",
   "version": "3.11.3"
  }
 },
 "nbformat": 4,
 "nbformat_minor": 5
}
