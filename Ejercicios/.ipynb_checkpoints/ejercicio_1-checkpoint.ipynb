{
 "cells": [
  {
   "cell_type": "markdown",
   "id": "8d405cdb-1f2c-43df-88e0-0e52e6bd0466",
   "metadata": {},
   "source": [
    "# Ejercicio 1"
   ]
  },
  {
   "cell_type": "markdown",
   "id": "7859fa47-d36b-4b77-abb4-17d3cec41d2c",
   "metadata": {},
   "source": [
    "Para resolver este desafío, debes escribir un algoritmo que elimine los elementos repetidos para obtener un conjunto único llamado new_set.\n",
    "\n",
    "Este algoritmo recibirá como entrada cuatro conjuntos de países, estos países serán de todo el continente americano divididos de la siguiente manera:\n",
    "\n",
    "countries - Países del continente en general.\n",
    "northAmerica - Países del norte de América.\n",
    "centralAmerica - Países del centro de América.\n",
    "southAmerica - Países del sur de América.\n",
    "En resumen, el algoritmo deberá eliminar los elementos repetidos de los cuatro conjuntos de países y obtener un conjunto único llamado new_set.\n",
    "\n",
    "Ejemplo 1:\n",
    "\n",
    "Input: \n",
    "{\"MX\", \"COL\", \"ARG\", \"USA\"},\n",
    "{\"USA\", \"CA\"},\n",
    "{\"MX\", \"GT\", \"BZ\"},\n",
    "{\"COL\", \"BZ\", \"ARG\"}\n",
    "\n",
    "Output:\n",
    "{'ARG', 'USA', 'CANADA', 'GT', 'COL', 'MX', 'BZ'}\n",
    "\n",
    "Ejemplo 2:\n",
    "\n",
    "Input:\n",
    "{\"BOL\"},\n",
    "{\"CA\"},\n",
    "{\"MX\"},\n",
    "{\"COL\"}\n",
    "\n",
    "Output:\n",
    "{'COL', 'CA', 'BOL', 'MX'}"
   ]
  },
  {
   "cell_type": "code",
   "execution_count": 2,
   "id": "a6c98905-217b-4e10-95d7-11b32fe93963",
   "metadata": {},
   "outputs": [
    {
     "name": "stdout",
     "output_type": "stream",
     "text": [
      "{'COL', 'BZ', 'USA', 'CANADA', 'MX', 'GT', 'ARG'}\n"
     ]
    }
   ],
   "source": [
    "countries = {\"MX\", \"COL\", \"ARG\", \"USA\"}\n",
    "northAm = {\"USA\", \"CANADA\"}\n",
    "centralAm = {\"MX\", \"GT\", \"BZ\"}\n",
    "southAm = {\"COL\", \"BZ\", \"ARG\"}\n",
    "\n",
    "new_set = set()\n",
    "# Escribe tu solución 👇\n",
    "new_set = countries | northAm | centralAm | southAm\n",
    "print(new_set)"
   ]
  }
 ],
 "metadata": {
  "kernelspec": {
   "display_name": "Python 3 (ipykernel)",
   "language": "python",
   "name": "python3"
  },
  "language_info": {
   "codemirror_mode": {
    "name": "ipython",
    "version": 3
   },
   "file_extension": ".py",
   "mimetype": "text/x-python",
   "name": "python",
   "nbconvert_exporter": "python",
   "pygments_lexer": "ipython3",
   "version": "3.11.3"
  }
 },
 "nbformat": 4,
 "nbformat_minor": 5
}
